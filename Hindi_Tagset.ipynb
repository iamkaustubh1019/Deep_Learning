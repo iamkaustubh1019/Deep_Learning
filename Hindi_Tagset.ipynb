{
  "nbformat": 4,
  "nbformat_minor": 0,
  "metadata": {
    "colab": {
      "name": "Hindi_Tagset.ipynb",
      "version": "0.3.2",
      "provenance": [],
      "collapsed_sections": [],
      "include_colab_link": true
    },
    "kernelspec": {
      "name": "python3",
      "display_name": "Python 3"
    }
  },
  "cells": [
    {
      "cell_type": "markdown",
      "metadata": {
        "id": "view-in-github",
        "colab_type": "text"
      },
      "source": [
        "<a href=\"https://colab.research.google.com/github/iamkaustubh1019/Deep_Learning/blob/master/Hindi_Tagset.ipynb\" target=\"_parent\"><img src=\"https://colab.research.google.com/assets/colab-badge.svg\" alt=\"Open In Colab\"/></a>"
      ]
    },
    {
      "cell_type": "code",
      "metadata": {
        "id": "PtgKJRfRI1n7",
        "colab_type": "code",
        "outputId": "26ae9caf-960d-498c-8a50-82aa5d2536a4",
        "colab": {
          "base_uri": "https://localhost:8080/",
          "height": 118
        }
      },
      "source": [
        "!git clone https://github.com/thatbrguy/Dropbox-Uploader.git\n",
        "!cd Dropbox-Uploader\n",
        "!chmod +x dropbox_uploader.sh"
      ],
      "execution_count": 0,
      "outputs": [
        {
          "output_type": "stream",
          "text": [
            "Cloning into 'Dropbox-Uploader'...\n",
            "remote: Enumerating objects: 951, done.\u001b[K\n",
            "Receiving objects:   0% (1/951)   \rReceiving objects:   1% (10/951)   \rReceiving objects:   2% (20/951)   \rReceiving objects:   3% (29/951)   \rReceiving objects:   4% (39/951)   \rReceiving objects:   5% (48/951)   \rReceiving objects:   6% (58/951)   \rReceiving objects:   7% (67/951)   \rReceiving objects:   8% (77/951)   \rReceiving objects:   9% (86/951)   \rReceiving objects:  10% (96/951)   \rReceiving objects:  11% (105/951)   \rReceiving objects:  12% (115/951)   \rReceiving objects:  13% (124/951)   \rReceiving objects:  14% (134/951)   \rReceiving objects:  15% (143/951)   \rReceiving objects:  16% (153/951)   \rReceiving objects:  17% (162/951)   \rReceiving objects:  18% (172/951)   \rReceiving objects:  19% (181/951)   \rReceiving objects:  20% (191/951)   \rReceiving objects:  21% (200/951)   \rReceiving objects:  22% (210/951)   \rReceiving objects:  23% (219/951)   \rReceiving objects:  24% (229/951)   \rReceiving objects:  25% (238/951)   \rReceiving objects:  26% (248/951)   \rReceiving objects:  27% (257/951)   \rReceiving objects:  28% (267/951)   \rReceiving objects:  29% (276/951)   \rReceiving objects:  30% (286/951)   \rReceiving objects:  31% (295/951)   \rReceiving objects:  32% (305/951)   \rReceiving objects:  33% (314/951)   \rReceiving objects:  34% (324/951)   \rReceiving objects:  35% (333/951)   \rReceiving objects:  36% (343/951)   \rReceiving objects:  37% (352/951)   \rReceiving objects:  38% (362/951)   \rReceiving objects:  39% (371/951)   \rReceiving objects:  40% (381/951)   \rReceiving objects:  41% (390/951)   \rReceiving objects:  42% (400/951)   \rReceiving objects:  43% (409/951)   \rReceiving objects:  44% (419/951)   \rReceiving objects:  45% (428/951)   \rReceiving objects:  46% (438/951)   \rReceiving objects:  47% (447/951)   \rReceiving objects:  48% (457/951)   \rReceiving objects:  49% (466/951)   \rReceiving objects:  50% (476/951)   \rReceiving objects:  51% (486/951)   \rReceiving objects:  52% (495/951)   \rReceiving objects:  53% (505/951)   \rReceiving objects:  54% (514/951)   \rReceiving objects:  55% (524/951)   \rReceiving objects:  56% (533/951)   \rReceiving objects:  57% (543/951)   \rReceiving objects:  58% (552/951)   \rReceiving objects:  59% (562/951)   \rReceiving objects:  60% (571/951)   \rReceiving objects:  61% (581/951)   \rReceiving objects:  62% (590/951)   \rReceiving objects:  63% (600/951)   \rReceiving objects:  64% (609/951)   \rReceiving objects:  65% (619/951)   \rReceiving objects:  66% (628/951)   \rReceiving objects:  67% (638/951)   \rReceiving objects:  68% (647/951)   \rReceiving objects:  69% (657/951)   \rReceiving objects:  70% (666/951)   \rReceiving objects:  71% (676/951)   \rReceiving objects:  72% (685/951)   \rReceiving objects:  73% (695/951)   \rReceiving objects:  74% (704/951)   \rReceiving objects:  75% (714/951)   \rReceiving objects:  76% (723/951)   \rReceiving objects:  77% (733/951)   \rReceiving objects:  78% (742/951)   \rReceiving objects:  79% (752/951)   \rReceiving objects:  80% (761/951)   \rReceiving objects:  81% (771/951)   \rReceiving objects:  82% (780/951)   \rReceiving objects:  83% (790/951)   \rReceiving objects:  84% (799/951)   \rReceiving objects:  85% (809/951)   \rReceiving objects:  86% (818/951)   \rReceiving objects:  87% (828/951)   \rReceiving objects:  88% (837/951)   \rReceiving objects:  89% (847/951)   \rReceiving objects:  90% (856/951)   \rReceiving objects:  91% (866/951)   \rReceiving objects:  92% (875/951)   \rReceiving objects:  93% (885/951)   \rReceiving objects:  94% (894/951)   \rReceiving objects:  95% (904/951)   \rReceiving objects:  96% (913/951)   \rReceiving objects:  97% (923/951)   \rReceiving objects:  98% (932/951)   \rReceiving objects:  99% (942/951)   \rremote: Total 951 (delta 0), reused 0 (delta 0), pack-reused 951\u001b[K\n",
            "Receiving objects: 100% (951/951)   \rReceiving objects: 100% (951/951), 309.19 KiB | 5.42 MiB/s, done.\n",
            "Resolving deltas:   0% (0/505)   \rResolving deltas:   4% (24/505)   \rResolving deltas:   5% (29/505)   \rResolving deltas:   9% (50/505)   \rResolving deltas:  10% (53/505)   \rResolving deltas:  12% (62/505)   \rResolving deltas:  19% (99/505)   \rResolving deltas:  23% (117/505)   \rResolving deltas:  33% (168/505)   \rResolving deltas:  38% (193/505)   \rResolving deltas:  39% (199/505)   \rResolving deltas:  46% (233/505)   \rResolving deltas:  49% (251/505)   \rResolving deltas:  51% (261/505)   \rResolving deltas:  57% (288/505)   \rResolving deltas:  58% (296/505)   \rResolving deltas:  60% (304/505)   \rResolving deltas:  61% (310/505)   \rResolving deltas:  67% (340/505)   \rResolving deltas:  68% (344/505)   \rResolving deltas:  69% (349/505)   \rResolving deltas:  70% (354/505)   \rResolving deltas:  71% (362/505)   \rResolving deltas:  72% (364/505)   \rResolving deltas:  73% (371/505)   \rResolving deltas:  77% (390/505)   \rResolving deltas:  82% (418/505)   \rResolving deltas:  85% (433/505)   \rResolving deltas: 100% (505/505)   \rResolving deltas: 100% (505/505), done.\n",
            "chmod: cannot access 'dropbox_uploader.sh': No such file or directory\n"
          ],
          "name": "stdout"
        }
      ]
    },
    {
      "cell_type": "code",
      "metadata": {
        "id": "fFRNsOo7JS4g",
        "colab_type": "code",
        "colab": {}
      },
      "source": [
        "!chmod +x Dropbox-Uploader/dropbox_uploader.sh"
      ],
      "execution_count": 0,
      "outputs": []
    },
    {
      "cell_type": "code",
      "metadata": {
        "id": "ZT1BR1i-JVCj",
        "colab_type": "code",
        "outputId": "3ad5ce0e-cee5-41be-f5e2-dcb359eebb29",
        "colab": {
          "base_uri": "https://localhost:8080/",
          "height": 269
        }
      },
      "source": [
        "!bash Dropbox-Uploader/dropbox_uploader.sh\n"
      ],
      "execution_count": 0,
      "outputs": [
        {
          "output_type": "stream",
          "text": [
            "\n",
            " This is the first time you run this script, please follow the instructions:\n",
            "\n",
            " 1) Open the following URL in your Browser, and log in using your account: https://www.dropbox.com/developers/apps\n",
            " 2) Click on \"Create App\", then select \"Dropbox API app\"\n",
            " 3) Now go on with the configuration, choosing the app permissions and access restrictions to your DropBox folder\n",
            " 4) Enter the \"App Name\" that you prefer (e.g. MyUploader273742141618880)\n",
            "\n",
            " Now, click on the \"Create App\" button.\n",
            "\n",
            " When your new App is successfully created, please click on the Generate button\n",
            " under the 'Generated access token' section, then execute the following command:\n",
            "\n",
            " echo \"INPUT_YOUR_ACCESS_TOKEN_HERE\" > token.txt\n",
            "\n"
          ],
          "name": "stdout"
        }
      ]
    },
    {
      "cell_type": "code",
      "metadata": {
        "id": "KRO7WFUvJaiX",
        "colab_type": "code",
        "colab": {}
      },
      "source": [
        "!echo \"uNdMH1DLnPAAAAAAAAAALEHa9VteMBC7p-0YjnxvknH1hqPVTZ0bhujDr6QVYDTg\" > token.txt"
      ],
      "execution_count": 0,
      "outputs": []
    },
    {
      "cell_type": "code",
      "metadata": {
        "id": "xv0gwewfJbog",
        "colab_type": "code",
        "outputId": "79d1dcbc-bd19-4600-b0c9-bd4e85dbeeab",
        "colab": {
          "base_uri": "https://localhost:8080/",
          "height": 34
        }
      },
      "source": [
        "!bash Dropbox-Uploader/dropbox_uploader.sh download Hindi.zip"
      ],
      "execution_count": 0,
      "outputs": [
        {
          "output_type": "stream",
          "text": [
            " > Downloading \"/Hindi.zip\" to \"/content/Hindi.zip\"... DONE\n"
          ],
          "name": "stdout"
        }
      ]
    },
    {
      "cell_type": "code",
      "metadata": {
        "id": "SdHCsVwAJov1",
        "colab_type": "code",
        "colab": {}
      },
      "source": [
        "!unzip Hindi"
      ],
      "execution_count": 0,
      "outputs": []
    },
    {
      "cell_type": "code",
      "metadata": {
        "id": "gMSqWM24J8v9",
        "colab_type": "code",
        "outputId": "91cf5cf8-73b2-4b28-c47a-de384549ee9c",
        "colab": {
          "base_uri": "https://localhost:8080/",
          "height": 34
        }
      },
      "source": [
        "import glob\n",
        "\n",
        "all_filenames = glob.glob('bhojpuri-tagged_cleaned.txt')\n",
        "print(all_filenames)"
      ],
      "execution_count": 36,
      "outputs": [
        {
          "output_type": "stream",
          "text": [
            "['bhojpuri-tagged_cleaned.txt']\n"
          ],
          "name": "stdout"
        }
      ]
    },
    {
      "cell_type": "code",
      "metadata": {
        "id": "MsABkJKfJssA",
        "colab_type": "code",
        "outputId": "915be9c0-a93b-4706-b9ef-da7181ddf23e",
        "colab": {
          "base_uri": "https://localhost:8080/",
          "height": 34
        }
      },
      "source": [
        "hindi = open('bhoj.txt' ,'w+')\n",
        "# limit = 10\n",
        "i = 0\n",
        "flag = 0\n",
        "for file in all_filenames:\n",
        "  i=i+1\n",
        "  print(i)\n",
        "  f = open(file,'r')\n",
        "\n",
        "  for lines in f:\n",
        "#     print(lines[:9])\n",
        "    if lines[0:9] == '<Sentence':\n",
        "#       print('Hii',i)\n",
        "      flag = 1\n",
        "    if flag == 1:\n",
        "      if (lines[0:9] != '<Sentence'   and lines != ''  and lines!='\\t))\\n' and lines[0:11]!='</Sentence>'):\n",
        "        if(lines+'\\n' == '\\n'):\n",
        "          continue\n",
        "        \n",
        "        hindi.write(lines+'\\n')\n",
        "    \n",
        "    if  lines[0:11] == '</Sentence>': \n",
        "      flag = 0\n",
        "  "
      ],
      "execution_count": 37,
      "outputs": [
        {
          "output_type": "stream",
          "text": [
            "1\n"
          ],
          "name": "stdout"
        }
      ]
    },
    {
      "cell_type": "code",
      "metadata": {
        "id": "ofbosmT9HONs",
        "colab_type": "code",
        "colab": {}
      },
      "source": [
        "g = open('bhoj.txt','r')\n",
        "f = open('bhoj.test','w+')\n",
        "\n",
        "count = 0\n",
        "for lines in g:\n",
        "  count = count +1\n",
        "  a = lines.split('\\t')\n",
        "  if a[0] != '\\n':\n",
        "    s = '\\t'.join(a)\n",
        "    f.write(s)"
      ],
      "execution_count": 0,
      "outputs": []
    },
    {
      "cell_type": "code",
      "metadata": {
        "id": "bKjOijVXLDbZ",
        "colab_type": "code",
        "outputId": "781981d6-c734-485c-8f07-29f8d0e5ecb4",
        "colab": {
          "base_uri": "https://localhost:8080/",
          "height": 67
        }
      },
      "source": [
        "f = open('bhoj.test','r')\n",
        "count =0\n",
        "for lines in f:\n",
        "  count = count+1\n",
        "  if(count>0):\n",
        "    if(len(lines.split('\\t')) < 4):\n",
        "      print(lines.split('\\t'),count)"
      ],
      "execution_count": 39,
      "outputs": [
        {
          "output_type": "stream",
          "text": [
            "['1', 'सन्यास', 'NN\\n'] 1\n",
            "['138', 'कइले', 'VM\\n'] 39071\n",
            "['41', 'देतिया।', 'VM\\n'] 135566\n"
          ],
          "name": "stdout"
        }
      ]
    },
    {
      "cell_type": "code",
      "metadata": {
        "id": "oMdaRWi8QftZ",
        "colab_type": "code",
        "colab": {}
      },
      "source": [
        "word = []\n",
        "tag = []\n",
        "f = open('bhoj.test','r')\n",
        "count =0\n",
        "for lines in f:\n",
        "  count = count+1\n",
        "  a = lines.split('\\t')\n",
        "  word.append(a[1])\n",
        "  tag.append(a[2])\n"
      ],
      "execution_count": 0,
      "outputs": []
    },
    {
      "cell_type": "code",
      "metadata": {
        "id": "CMom9G2lQ0A8",
        "colab_type": "code",
        "colab": {}
      },
      "source": [
        "dic = {}\n"
      ],
      "execution_count": 0,
      "outputs": []
    },
    {
      "cell_type": "code",
      "metadata": {
        "id": "yd4LsklugThP",
        "colab_type": "code",
        "colab": {}
      },
      "source": [
        "def unique(list1): \n",
        "  \n",
        "    # intilize a null list \n",
        "    unique_list = [] \n",
        "      \n",
        "    # traverse for all elements \n",
        "    for x in list1: \n",
        "        # check if exists in unique_list or not \n",
        "        if x not in unique_list: \n",
        "            unique_list.append(x) \n",
        "    # print list \n",
        "#     for x in unique_list: \n",
        "#         print x,\n",
        "    return unique_list"
      ],
      "execution_count": 0,
      "outputs": []
    },
    {
      "cell_type": "code",
      "metadata": {
        "id": "TAtrbR6Shn8Y",
        "colab_type": "code",
        "colab": {}
      },
      "source": [
        "un = unique(word)"
      ],
      "execution_count": 0,
      "outputs": []
    },
    {
      "cell_type": "code",
      "metadata": {
        "id": "lJUIL3rVhzF_",
        "colab_type": "code",
        "outputId": "50304bd5-8dfc-47e7-b9ad-c3dd7c7ba741",
        "colab": {
          "base_uri": "https://localhost:8080/",
          "height": 34
        }
      },
      "source": [
        "len(un)"
      ],
      "execution_count": 44,
      "outputs": [
        {
          "output_type": "execute_result",
          "data": {
            "text/plain": [
              "26397"
            ]
          },
          "metadata": {
            "tags": []
          },
          "execution_count": 44
        }
      ]
    },
    {
      "cell_type": "code",
      "metadata": {
        "id": "VumIFmw6iKVt",
        "colab_type": "code",
        "colab": {}
      },
      "source": [
        "for i in un:\n",
        "  dic[i] = 0"
      ],
      "execution_count": 0,
      "outputs": []
    },
    {
      "cell_type": "code",
      "metadata": {
        "id": "7QYsd6ycicNi",
        "colab_type": "code",
        "colab": {}
      },
      "source": [
        "for i in word:\n",
        "  dic[i] = dic[i]+1"
      ],
      "execution_count": 0,
      "outputs": []
    },
    {
      "cell_type": "code",
      "metadata": {
        "id": "2zfBXh6QioSs",
        "colab_type": "code",
        "colab": {}
      },
      "source": [
        "dic"
      ],
      "execution_count": 0,
      "outputs": []
    },
    {
      "cell_type": "code",
      "metadata": {
        "id": "dvIVpe15i3EP",
        "colab_type": "code",
        "colab": {}
      },
      "source": [
        "hindi = open('Hindi.txt' ,'w+')\n",
        "# limit = 10\n",
        "i = 0\n",
        "flag = 0\n",
        "for file in all_filenames:\n",
        "  i=i+1\n",
        "  print(i)\n",
        "  f = open(file,'r')\n",
        "\n",
        "  for lines in f:\n",
        "#     print(lines[:9])\n",
        "    if lines[0:9] == '<Sentence':\n",
        "#       print('Hii',i)\n",
        "      flag = 1\n",
        "    if flag == 1:\n",
        "      if (lines[0:9] != '<Sentence'   and lines != ''  and lines!='\\t))\\n' and lines[0:11]!='</Sentence>'):\n",
        "        if(lines+'\\n' == '\\n'):\n",
        "          continue\n",
        "        \n",
        "        hindi.write(lines+'\\n')\n",
        "    \n",
        "    if  lines[0:11] == '</Sentence>': \n",
        "      flag = 0\n",
        "  "
      ],
      "execution_count": 0,
      "outputs": []
    },
    {
      "cell_type": "code",
      "metadata": {
        "id": "0bjq40pTRI5o",
        "colab_type": "code",
        "colab": {}
      },
      "source": [
        "\n",
        "\n",
        "\n",
        "df = pd.DataFrame({\"Word\":word, \n",
        "                    \"Tag\":tag}) "
      ],
      "execution_count": 0,
      "outputs": []
    },
    {
      "cell_type": "code",
      "metadata": {
        "id": "EGyitlGhRRsE",
        "colab_type": "code",
        "colab": {}
      },
      "source": [
        "df"
      ],
      "execution_count": 0,
      "outputs": []
    },
    {
      "cell_type": "code",
      "metadata": {
        "id": "1N_XcbEmqBiQ",
        "colab_type": "code",
        "outputId": "9be3a63f-8be3-4c54-c986-ada3ec72a651",
        "colab": {
          "base_uri": "https://localhost:8080/",
          "height": 87
        }
      },
      "source": [
        "import pandas as pd\n",
        "df = pd.DataFrame()\n",
        "df = pd.read_csv('Hindi.txt',sep ='\\t')\n",
        "df.columns = [ 'Sentence ID', 'Sentence','Tag','Information']\n",
        "# df = df.loc[df['Sentence']!='((']\n",
        "len(df.Sentence.unique())  "
      ],
      "execution_count": 0,
      "outputs": [
        {
          "output_type": "stream",
          "text": [
            "/usr/local/lib/python3.6/dist-packages/IPython/core/interactiveshell.py:2718: DtypeWarning: Columns (0) have mixed types. Specify dtype option on import or set low_memory=False.\n",
            "  interactivity=interactivity, compiler=compiler, result=result)\n"
          ],
          "name": "stderr"
        },
        {
          "output_type": "execute_result",
          "data": {
            "text/plain": [
              "22256"
            ]
          },
          "metadata": {
            "tags": []
          },
          "execution_count": 15
        }
      ]
    },
    {
      "cell_type": "code",
      "metadata": {
        "id": "F-vfDAfFYAJL",
        "colab_type": "code",
        "colab": {}
      },
      "source": [
        "df "
      ],
      "execution_count": 0,
      "outputs": []
    },
    {
      "cell_type": "code",
      "metadata": {
        "id": "E7E7sKfhW4fS",
        "colab_type": "code",
        "colab": {}
      },
      "source": [
        "tags = ['NN', 'PSP', 'NP', 'JJ', 'VGNF', 'VM', 'VAUX', 'NNPC', 'NNP', 'QC',\n",
        "       'VGF', 'BLK', 'SYM', 'DEM', 'NNC', 'CCP', 'CC', 'INTF', 'QF',\n",
        "       'VGNN', 'JJP', 'PRP', 'RBP', 'RB', 'RP', 'NST', 'NEG', 'NEGP',\n",
        "       'NULL__VGF', 'PRPC', 'WQ', 'NULL__NP', 'NULL__CCP', 'QO', 'FRAGP',\n",
        "       'RDP', 'VMC', 'QCC', 'JJC', 'INJ', 'UNK','NULL__VGNF', 'NULL__VGNN', 'QFC',\n",
        "       'NSTC','NULL__JJP', 'CCC', 'QT_QTF', 'INTFC','NULL__RBP', 'PR_PRP', 'INJC', 'ECH','N_NN']"
      ],
      "execution_count": 0,
      "outputs": []
    },
    {
      "cell_type": "code",
      "metadata": {
        "id": "Z-IGlCNvWgm4",
        "colab_type": "code",
        "colab": {}
      },
      "source": [
        "df2 = df.loc[df['Tag'].isnull()]\n",
        "[print(i) for i in df2['Sentence ID'].unique()]"
      ],
      "execution_count": 0,
      "outputs": []
    },
    {
      "cell_type": "code",
      "metadata": {
        "id": "Qh_7thtnVnKx",
        "colab_type": "code",
        "outputId": "8c9aa172-befb-4b8a-954c-03bbdf700e07",
        "colab": {
          "base_uri": "https://localhost:8080/",
          "height": 353
        }
      },
      "source": [
        "df.Tag.unique()"
      ],
      "execution_count": 0,
      "outputs": [
        {
          "output_type": "execute_result",
          "data": {
            "text/plain": [
              "array(['NN', 'PSP', 'NP', 'JJ', 'VGNF', 'VM', 'VAUX', 'NNPC', 'NNP', 'QC',\n",
              "       'VGF', 'BLK', 'SYM', nan, 'DEM', 'NNC', 'CCP', 'CC', 'INTF', 'QF',\n",
              "       'VGNN', 'JJP', 'PRP', 'RBP', 'RB', 'RP', 'NST', 'NEG', 'NEGP',\n",
              "       'NULL__VGF', 'PRPC', 'WQ', 'NULL__NP', 'NULL__CCP', 'QO', 'FRAGP',\n",
              "       'RDP', 'VMC', 'QCC', 'JJC', 'INJ', 'UNK',\n",
              "       '<format>CML/SSF</format>',\n",
              "       '<original_encoding>ISO 8859</original_encoding>',\n",
              "       '<new_encoding>Unicode UTF8</new_encoding>',\n",
              "       '<raw_corpus creation_date=\"\" institute_name=\"IIIT Hyderabad\"></raw_corpus>',\n",
              "       '<annotated_corpus creation_date=\"06/01/2009\" institute_name=\"IIIT Hyderabad\"></annotated_corpus>',\n",
              "       '<place>New Delhi</place>', '<date>31/5/2004</date>',\n",
              "       '<type>Newspaper</type>', '<publisher>', '</publisher>', 'RBC',\n",
              "       '<date>29/5/2004</date>', 'NULL__VGNF', 'NULL__VGNN', 'QFC',\n",
              "       'NSTC', '<date>28/5/2004</date>', '<date>2/6/2004</date>',\n",
              "       'NULL__JJP', 'CCC', 'QT_QTF', 'INTFC', '<date>1/6/2004</date>',\n",
              "       '<date>30/5/2004</date>', 'NULL__RBP', 'PR_PRP', 'INJC', 'ECH',\n",
              "       '<original_encoding>ISO 8859</format>',\n",
              "       '</raw_corpus creation_date=\"\" institute_name=\"IIIT Hyderabad\">',\n",
              "       '</annotated_corpus creation_date=\"06/01/2009\" institute_name=\"IIIT Hyderabad\">',\n",
              "       'N_NN'], dtype=object)"
            ]
          },
          "metadata": {
            "tags": []
          },
          "execution_count": 15
        }
      ]
    },
    {
      "cell_type": "code",
      "metadata": {
        "id": "sr0tN3qhrs3w",
        "colab_type": "code",
        "colab": {}
      },
      "source": [
        "# for i,count in zip(df['Sentence ID'],range(len(df['Sentence ID']))):\n",
        "# #   if(i=='</Sentence>'):\n",
        "#     df['Sentence ID'][count] = '.'\n",
        "  "
      ],
      "execution_count": 0,
      "outputs": []
    },
    {
      "cell_type": "code",
      "metadata": {
        "id": "a6B_d_288YID",
        "colab_type": "code",
        "colab": {}
      },
      "source": [
        "df2 = df.loc[df['Sentence ID'] != '</Sentence>']"
      ],
      "execution_count": 0,
      "outputs": []
    },
    {
      "cell_type": "code",
      "metadata": {
        "id": "8wj6m2yZHcb8",
        "colab_type": "code",
        "outputId": "e23d77e5-993e-4cf4-c4e0-0f2c68d0e519",
        "colab": {
          "base_uri": "https://localhost:8080/",
          "height": 34
        }
      },
      "source": [
        "type(df[\"Sentence ID\"])"
      ],
      "execution_count": 0,
      "outputs": [
        {
          "output_type": "execute_result",
          "data": {
            "text/plain": [
              "pandas.core.series.Series"
            ]
          },
          "metadata": {
            "tags": []
          },
          "execution_count": 60
        }
      ]
    },
    {
      "cell_type": "code",
      "metadata": {
        "id": "eMZX2ZQlLgBL",
        "colab_type": "code",
        "colab": {}
      },
      "source": [
        "a = df['Sentence']"
      ],
      "execution_count": 0,
      "outputs": []
    },
    {
      "cell_type": "code",
      "metadata": {
        "id": "gcsNs7e8L2oO",
        "colab_type": "code",
        "colab": {}
      },
      "source": [
        "b= df['Tag']"
      ],
      "execution_count": 0,
      "outputs": []
    },
    {
      "cell_type": "code",
      "metadata": {
        "id": "8of_TeeGMJNE",
        "colab_type": "code",
        "outputId": "5929f1b4-1e62-4703-ee04-267b454a98f3",
        "colab": {
          "base_uri": "https://localhost:8080/",
          "height": 34
        }
      },
      "source": [
        "a[2]"
      ],
      "execution_count": 0,
      "outputs": [
        {
          "output_type": "execute_result",
          "data": {
            "text/plain": [
              "'(('"
            ]
          },
          "metadata": {
            "tags": []
          },
          "execution_count": 80
        }
      ]
    },
    {
      "cell_type": "code",
      "metadata": {
        "id": "qOzDGwJgZUVf",
        "colab_type": "code",
        "outputId": "e1881bd2-6bf5-4eaf-d30e-14c044cecf5a",
        "colab": {
          "base_uri": "https://localhost:8080/",
          "height": 34
        }
      },
      "source": [
        "len(df)"
      ],
      "execution_count": 0,
      "outputs": [
        {
          "output_type": "execute_result",
          "data": {
            "text/plain": [
              "753841"
            ]
          },
          "metadata": {
            "tags": []
          },
          "execution_count": 24
        }
      ]
    },
    {
      "cell_type": "code",
      "metadata": {
        "id": "Ts6lakXaHQuh",
        "colab_type": "code",
        "colab": {}
      },
      "source": [
        "file = open('hindi.test','w+')\n",
        "count = 0\n",
        "neg_count = 0\n",
        "for i in range(len(df)):\n",
        "  if df['Tag'][i] not in tags:\n",
        "\n",
        "    neg_count = neg_count+1\n",
        "    continue\n",
        "    \n",
        "  count = count +1\n",
        "  if(a[i] == '(('):\n",
        "    continue\n",
        "  if(pd.isna(a[i])):\n",
        "#     file.write('. . O O\\n')\n",
        "    continue\n",
        "  file.write(str(a[i])+\" \"+str(b[i])+\" I O\" + \"\\n\")\n",
        "  \n",
        "  \n",
        "  \n",
        " "
      ],
      "execution_count": 0,
      "outputs": []
    },
    {
      "cell_type": "code",
      "metadata": {
        "id": "okcUxPgej9p2",
        "colab_type": "code",
        "outputId": "c064ddd4-bb52-416b-ebbd-b63f63d77738",
        "colab": {
          "base_uri": "https://localhost:8080/",
          "height": 34
        }
      },
      "source": [
        "[print(lines) for lines in file]"
      ],
      "execution_count": 0,
      "outputs": [
        {
          "output_type": "execute_result",
          "data": {
            "text/plain": [
              "[]"
            ]
          },
          "metadata": {
            "tags": []
          },
          "execution_count": 45
        }
      ]
    },
    {
      "cell_type": "code",
      "metadata": {
        "id": "2DeBmp-kaNCr",
        "colab_type": "code",
        "outputId": "ddfedcaa-90bb-422d-87b1-7267504c88d4",
        "colab": {
          "base_uri": "https://localhost:8080/",
          "height": 34
        }
      },
      "source": [
        "count-neg_count"
      ],
      "execution_count": 0,
      "outputs": [
        {
          "output_type": "execute_result",
          "data": {
            "text/plain": [
              "590797"
            ]
          },
          "metadata": {
            "tags": []
          },
          "execution_count": 32
        }
      ]
    },
    {
      "cell_type": "code",
      "metadata": {
        "id": "-KVNl2-AZz3-",
        "colab_type": "code",
        "outputId": "422aa0fe-4a2f-453f-efbe-db1eeb8a0bdd",
        "colab": {
          "base_uri": "https://localhost:8080/",
          "height": 34
        }
      },
      "source": [
        "count"
      ],
      "execution_count": 0,
      "outputs": [
        {
          "output_type": "execute_result",
          "data": {
            "text/plain": [
              "672319"
            ]
          },
          "metadata": {
            "tags": []
          },
          "execution_count": 33
        }
      ]
    },
    {
      "cell_type": "code",
      "metadata": {
        "id": "VE2u8ATlN_0M",
        "colab_type": "code",
        "outputId": "910702f0-30eb-47c8-b305-c27419dca96f",
        "colab": {
          "base_uri": "https://localhost:8080/",
          "height": 34
        }
      },
      "source": [
        "!bash Dropbox-Uploader/dropbox_uploader.sh upload 'hindi.test' Hindi.test"
      ],
      "execution_count": 0,
      "outputs": [
        {
          "output_type": "stream",
          "text": [
            " > Uploading \"/content/hindi.test\" to \"/Hindi.test\"... DONE\n"
          ],
          "name": "stdout"
        }
      ]
    },
    {
      "cell_type": "code",
      "metadata": {
        "id": "Cy_vrZ7lN08Z",
        "colab_type": "code",
        "outputId": "78b70dda-93ac-4973-cf79-30118108ad5f",
        "colab": {
          "base_uri": "https://localhost:8080/",
          "height": 34
        }
      },
      "source": [
        "!bash Dropbox-Uploader/dropbox_uploader.sh download Hindi.test"
      ],
      "execution_count": 33,
      "outputs": [
        {
          "output_type": "stream",
          "text": [
            "> Skipping file \"/Hindi.test\", file exists with the same hash\n"
          ],
          "name": "stdout"
        }
      ]
    },
    {
      "cell_type": "code",
      "metadata": {
        "id": "lJgoEOPia9tC",
        "colab_type": "code",
        "colab": {}
      },
      "source": [
        "g = open('Hindi.test','r')\n",
        "count = 0\n",
        "for i in g:\n",
        "  count = count +1"
      ],
      "execution_count": 0,
      "outputs": []
    },
    {
      "cell_type": "code",
      "metadata": {
        "id": "zAhWcMCKbHW1",
        "colab_type": "code",
        "colab": {}
      },
      "source": [
        "import numpy as np\n",
        "count =0\n",
        "for i, index in enumerate(np.random.permutation(303916)):\n",
        "  count = count+1\n",
        "  print(i,index)"
      ],
      "execution_count": 0,
      "outputs": []
    },
    {
      "cell_type": "code",
      "metadata": {
        "id": "ZHCAi6iFQaTZ",
        "colab_type": "code",
        "colab": {}
      },
      "source": [
        "# 261457\n",
        "# 348622\n",
        "# parameters['train'] = \"./data/eng.train\" #Path to train file\n",
        "# parameters['dev'] = \"./data/eng.testa\" #Path to test file\n",
        "# parameters['test'] = \"./data/eng.testb\" #Path to dev file\n",
        "# 305047\n",
        "# 392207\n",
        "#304052#390892"
      ],
      "execution_count": 0,
      "outputs": []
    },
    {
      "cell_type": "code",
      "metadata": {
        "id": "cPLKLsIBMqGX",
        "colab_type": "code",
        "colab": {}
      },
      "source": [
        "g = open('Hindi.test','r')\n",
        "h  = open('hin.train','w+')\n",
        "i = open('hin.testa','w+')\n",
        "j = open('hin.testb','w+')\n",
        "\n",
        "# len(g)\n",
        "count =0\n",
        "for lines in g:\n",
        "  count +=1\n",
        "  if count < 304052:\n",
        "#     print(lines)\n",
        "    h.write(lines+'\\n')\n",
        "  elif count < 390892:\n",
        "    i.write(lines+'\\n')\n",
        "  else:\n",
        "    j.write(lines+'\\n')\n",
        "  "
      ],
      "execution_count": 0,
      "outputs": []
    },
    {
      "cell_type": "code",
      "metadata": {
        "id": "EMjCz9vLSEyI",
        "colab_type": "code",
        "colab": {}
      },
      "source": [
        "h  = open('hin.train','r')\n",
        "i = open('hin.testa','r')\n"
      ],
      "execution_count": 0,
      "outputs": []
    },
    {
      "cell_type": "code",
      "metadata": {
        "id": "_C90aG6_wO0Y",
        "colab_type": "code",
        "colab": {}
      },
      "source": [
        "j = open('hin.testb','r')\n",
        "sentence = ''\n",
        "for lines in j:\n",
        "  \n",
        "  a = lines.split(' ')\n",
        "  sentence = sentence + a[0]\n",
        "#   print(sentence)"
      ],
      "execution_count": 0,
      "outputs": []
    },
    {
      "cell_type": "code",
      "metadata": {
        "id": "rPQ85DqLwfEM",
        "colab_type": "code",
        "colab": {}
      },
      "source": [
        "s = sentence.split('\\n')"
      ],
      "execution_count": 0,
      "outputs": []
    },
    {
      "cell_type": "code",
      "metadata": {
        "id": "vkr9NzcVwkGu",
        "colab_type": "code",
        "outputId": "369fd32e-2a92-44f7-f9da-d0b8f08ab071",
        "colab": {
          "base_uri": "https://localhost:8080/",
          "height": 34
        }
      },
      "source": [
        "len(s)"
      ],
      "execution_count": 0,
      "outputs": [
        {
          "output_type": "execute_result",
          "data": {
            "text/plain": [
              "43572"
            ]
          },
          "metadata": {
            "tags": []
          },
          "execution_count": 106
        }
      ]
    },
    {
      "cell_type": "code",
      "metadata": {
        "id": "JaYVzpM1wmFc",
        "colab_type": "code",
        "colab": {}
      },
      "source": [
        "en = ' '.join(s) "
      ],
      "execution_count": 0,
      "outputs": []
    },
    {
      "cell_type": "code",
      "metadata": {
        "id": "r7qrOlVNw2xu",
        "colab_type": "code",
        "outputId": "3fce99e1-9fb4-4cd2-f45e-c8408293352f",
        "colab": {
          "base_uri": "https://localhost:8080/",
          "height": 34
        }
      },
      "source": [
        "en[:100]"
      ],
      "execution_count": 0,
      "outputs": [
        {
          "output_type": "execute_result",
          "data": {
            "text/plain": [
              "'पड़ोस के राज्य में गन्ने का न्यूनतम मूल्य १३५ रुपये क्विंटल सरकार ने घोषित कर रखा है , जबकि उत्तर प्र'"
            ]
          },
          "metadata": {
            "tags": []
          },
          "execution_count": 111
        }
      ]
    },
    {
      "cell_type": "code",
      "metadata": {
        "id": "aw_0SJbiUFL-",
        "colab_type": "code",
        "outputId": "85ded0e4-edf6-43b8-f43e-ba69739e265f",
        "colab": {
          "base_uri": "https://localhost:8080/",
          "height": 229
        }
      },
      "source": [
        "# Sg = open('Hindi.txt','r')\n",
        "# limit = 0\n",
        "# for lines in g:\n",
        "#   limit =limit+1\n",
        "#   if limit>774:\n",
        "#     print(lines.split('\\t'))\n",
        "#     print(limit)\n",
        "#   if limit >1000:\n",
        "#     break\n",
        "#   else: continue"
      ],
      "execution_count": 0,
      "outputs": [
        {
          "output_type": "error",
          "ename": "FileNotFoundError",
          "evalue": "ignored",
          "traceback": [
            "\u001b[0;31m---------------------------------------------------------------------------\u001b[0m",
            "\u001b[0;31mFileNotFoundError\u001b[0m                         Traceback (most recent call last)",
            "\u001b[0;32m<ipython-input-98-70c7154ae487>\u001b[0m in \u001b[0;36m<module>\u001b[0;34m()\u001b[0m\n\u001b[0;32m----> 1\u001b[0;31m \u001b[0mSg\u001b[0m \u001b[0;34m=\u001b[0m \u001b[0mopen\u001b[0m\u001b[0;34m(\u001b[0m\u001b[0;34m'Hindi.txt'\u001b[0m\u001b[0;34m,\u001b[0m\u001b[0;34m'r'\u001b[0m\u001b[0;34m)\u001b[0m\u001b[0;34m\u001b[0m\u001b[0;34m\u001b[0m\u001b[0m\n\u001b[0m\u001b[1;32m      2\u001b[0m \u001b[0mlimit\u001b[0m \u001b[0;34m=\u001b[0m \u001b[0;36m0\u001b[0m\u001b[0;34m\u001b[0m\u001b[0;34m\u001b[0m\u001b[0m\n\u001b[1;32m      3\u001b[0m \u001b[0;32mfor\u001b[0m \u001b[0mlines\u001b[0m \u001b[0;32min\u001b[0m \u001b[0mg\u001b[0m\u001b[0;34m:\u001b[0m\u001b[0;34m\u001b[0m\u001b[0;34m\u001b[0m\u001b[0m\n\u001b[1;32m      4\u001b[0m   \u001b[0mlimit\u001b[0m \u001b[0;34m=\u001b[0m\u001b[0mlimit\u001b[0m\u001b[0;34m+\u001b[0m\u001b[0;36m1\u001b[0m\u001b[0;34m\u001b[0m\u001b[0;34m\u001b[0m\u001b[0m\n\u001b[1;32m      5\u001b[0m   \u001b[0;32mif\u001b[0m \u001b[0mlimit\u001b[0m\u001b[0;34m>\u001b[0m\u001b[0;36m774\u001b[0m\u001b[0;34m:\u001b[0m\u001b[0;34m\u001b[0m\u001b[0;34m\u001b[0m\u001b[0m\n",
            "\u001b[0;31mFileNotFoundError\u001b[0m: [Errno 2] No such file or directory: 'Hindi.txt'"
          ]
        }
      ]
    },
    {
      "cell_type": "code",
      "metadata": {
        "id": "EDmOK1gOkapD",
        "colab_type": "code",
        "colab": {}
      },
      "source": [
        "f = open('hindi.test','r')\n",
        "word_h = []\n",
        "tag_h = []\n",
        "for lines in f:\n",
        "#   count = count+1\n",
        "  a = lines.split(' ')\n",
        "  print(a)\n",
        "  if(len(a)<4): continue\n",
        "  word_h.append(a[0])\n",
        "  tag_h.append(a[1])\n"
      ],
      "execution_count": 0,
      "outputs": []
    },
    {
      "cell_type": "code",
      "metadata": {
        "id": "Hk_XwibDlMTs",
        "colab_type": "code",
        "colab": {}
      },
      "source": [
        "dic_h = {}\n",
        "un_h = unique(word_h)\n",
        "for i in un_h:\n",
        "  dic_h[i] = 0\n",
        "for i in word_h:\n",
        "  dic_h[i] = dic_h[i] + 1"
      ],
      "execution_count": 0,
      "outputs": []
    },
    {
      "cell_type": "code",
      "metadata": {
        "id": "u7ukVXQVmrxu",
        "colab_type": "code",
        "outputId": "5f416d67-1319-4f7b-9395-aa5334843b28",
        "colab": {
          "base_uri": "https://localhost:8080/",
          "height": 34
        }
      },
      "source": [
        "len(un_h)"
      ],
      "execution_count": 48,
      "outputs": [
        {
          "output_type": "execute_result",
          "data": {
            "text/plain": [
              "22242"
            ]
          },
          "metadata": {
            "tags": []
          },
          "execution_count": 48
        }
      ]
    },
    {
      "cell_type": "code",
      "metadata": {
        "id": "tzasxlq2m66c",
        "colab_type": "code",
        "outputId": "ba0ab756-c25a-4c7b-aac0-afa6ee28cf1b",
        "colab": {
          "base_uri": "https://localhost:8080/",
          "height": 34
        }
      },
      "source": [
        "len(dic_h)"
      ],
      "execution_count": 49,
      "outputs": [
        {
          "output_type": "execute_result",
          "data": {
            "text/plain": [
              "22242"
            ]
          },
          "metadata": {
            "tags": []
          },
          "execution_count": 49
        }
      ]
    },
    {
      "cell_type": "code",
      "metadata": {
        "id": "cx04L0ZznM_a",
        "colab_type": "code",
        "colab": {}
      },
      "source": [
        "from tensorflow.python.framework import function\n",
        "import tensorflow as tf\n",
        "\n",
        "ETA=1e-8\n",
        "\n",
        "## We all assume that:\n",
        "# a: n x d matrix\n",
        "# b: n x d matrix\n",
        "# distance before being normalized by n or d\n",
        "\n",
        "# @function.Defun(tf.float32, tf.float32)\n",
        "# def norm_grad(x, dy):\n",
        "#     return dy*(x/tf.norm(x))\n",
        "\n",
        "# @function.Defun(tf.float32, grad_func=norm_grad)\n",
        "def norm(x):\n",
        "    return tf.norm(x, axis=1, keep_dims=True)\n",
        "\n",
        "def l2_norm(a):\n",
        "    norm_a = tf.sqrt(tf.reduce_sum(tf.square(a), 1, keep_dims=True)+ETA)\n",
        "    # norm_a = norm(a)\n",
        "    normalize_a = a/(norm_a)\n",
        "    return normalize_a\n",
        "\n",
        "def l1_norm(a):\n",
        "    norm_a = tf.reduce_sum(a, keep_dims=True)\n",
        "    normalize_a = a/(norm_a)\n",
        "    return normalize_a\n",
        "\n",
        "def cosine_similarity(a, b):\n",
        "    \"\"\" \n",
        "    compute cosine similarity between v1 and v2\n",
        "    \"\"\"\n",
        "    normalize_a = l2_norm(a)      \n",
        "    normalize_b = l2_norm(b)\n",
        "    return tf.reduce_sum(tf.multiply(normalize_a,normalize_b))\n",
        "\n",
        "def cosine_similarity_matrix(a, b):\n",
        "    \"\"\" \n",
        "    compute cosine similarity between v1 and v2 in matrix\n",
        "    \"\"\"\n",
        "    normalize_a = l2_norm(a)      \n",
        "    normalize_b = l2_norm(b)\n",
        "    return tf.matmul(normalize_a, tf.transpose(normalize_b))\n",
        "\n",
        "def euclidean_distance(a, b):\n",
        "    # return tf.reduce_sum(tf.norm(tf.subtract(a, b), ord='euclidean', axis=1))\n",
        "    return tf.reduce_sum(tf.sqrt(tf.reduce_sum(tf.square(tf.subtract(a, b)), 1)+ETA))\n",
        "\n",
        "def euclidean_distance_matrix(a, b):\n",
        "    batch_size = tf.shape(a)[0]\n",
        "    aaT = tf.matmul(a, tf.transpose(a))\n",
        "    bbT = tf.matmul(b, tf.transpose(b))\n",
        "    l2 = tf.maximum(aaT + bbT - 2*tf.matmul(a, tf.transpose(b)), ETA*tf.ones([batch_size,batch_size], tf.float32))\n",
        "    return tf.sqrt(l2)\n",
        "\n",
        "# def euclidean_distance_matrix(a, b):\n",
        "#     # assuming a and b are normalized\n",
        "#     return tf.sqrt(2 - 2*tf.matmul(a, tf.transpose(b)))\n",
        "\n",
        "def norm_euclidean_distance(a, b):\n",
        "    normalize_a = l2_norm(a)      \n",
        "    normalize_b = l2_norm(b)\n",
        "    return euclidean_distance(normalize_a, normalize_b)\n",
        "\n",
        "def norm_euclidean_distance_matrix(a, b):\n",
        "    return tf.sqrt(2 - 2*cosine_similarity_matrix(a,b))\n",
        "\n"
      ],
      "execution_count": 0,
      "outputs": []
    },
    {
      "cell_type": "code",
      "metadata": {
        "id": "BLClDV5rne7J",
        "colab_type": "code",
        "outputId": "636af754-7a2d-4473-d3c1-6865f8965ab4",
        "colab": {
          "base_uri": "https://localhost:8080/",
          "height": 34
        }
      },
      "source": [
        "len(un)"
      ],
      "execution_count": 51,
      "outputs": [
        {
          "output_type": "execute_result",
          "data": {
            "text/plain": [
              "26397"
            ]
          },
          "metadata": {
            "tags": []
          },
          "execution_count": 51
        }
      ]
    },
    {
      "cell_type": "code",
      "metadata": {
        "id": "2dcNVgDVhT2C",
        "colab_type": "code",
        "colab": {}
      },
      "source": [
        "norm_h = {}"
      ],
      "execution_count": 0,
      "outputs": []
    },
    {
      "cell_type": "code",
      "metadata": {
        "id": "433m9S-1nWX0",
        "colab_type": "code",
        "colab": {}
      },
      "source": [
        "for i in vec_b:\n",
        "  \n",
        "  "
      ],
      "execution_count": 0,
      "outputs": []
    },
    {
      "cell_type": "code",
      "metadata": {
        "id": "Fzc03CSZvItl",
        "colab_type": "code",
        "outputId": "3f9a380f-b11c-48ca-acc2-354fb3d23671",
        "colab": {
          "base_uri": "https://localhost:8080/",
          "height": 34
        }
      },
      "source": [
        "!bash Dropbox-Uploader/dropbox_uploader.sh download wiki.hin.bin"
      ],
      "execution_count": 0,
      "outputs": [
        {
          "output_type": "stream",
          "text": [
            " > Downloading \"/wiki.hin.bin\" to \"/content/wiki.hin.bin\"... DONE\n"
          ],
          "name": "stdout"
        }
      ]
    },
    {
      "cell_type": "code",
      "metadata": {
        "id": "RAu6gLj_vMvG",
        "colab_type": "code",
        "outputId": "da128e2b-4d0e-4176-b69c-66c20ce03bea",
        "colab": {
          "base_uri": "https://localhost:8080/",
          "height": 34
        }
      },
      "source": [
        "# !pip install fasttext\n",
        "import fasttext\n",
        "hindi = fasttext.load_model('wiki.hin.bin')"
      ],
      "execution_count": 55,
      "outputs": [
        {
          "output_type": "stream",
          "text": [
            "\n"
          ],
          "name": "stderr"
        }
      ]
    },
    {
      "cell_type": "code",
      "metadata": {
        "id": "8m_7ctFzvb9Y",
        "colab_type": "code",
        "colab": {}
      },
      "source": [
        "vec_h = {}\n"
      ],
      "execution_count": 0,
      "outputs": []
    },
    {
      "cell_type": "code",
      "metadata": {
        "id": "adK6_s0cvgle",
        "colab_type": "code",
        "colab": {}
      },
      "source": [
        "for i in un_h:\n",
        "  vec_h[i] = hindi[i]"
      ],
      "execution_count": 0,
      "outputs": []
    },
    {
      "cell_type": "code",
      "metadata": {
        "id": "fUwUXOcfvvSj",
        "colab_type": "code",
        "outputId": "5a61c1c1-7d9d-4e6e-ff46-cefe558b4f19",
        "colab": {
          "base_uri": "https://localhost:8080/",
          "height": 34
        }
      },
      "source": [
        "len(vec_h)"
      ],
      "execution_count": 64,
      "outputs": [
        {
          "output_type": "execute_result",
          "data": {
            "text/plain": [
              "22242"
            ]
          },
          "metadata": {
            "tags": []
          },
          "execution_count": 64
        }
      ]
    },
    {
      "cell_type": "code",
      "metadata": {
        "id": "h8-xSTqYv3wm",
        "colab_type": "code",
        "colab": {}
      },
      "source": [
        "bhoj = fasttext.train_unsupervised('Bhojpuri.txt',model='skipgram',dim=100)"
      ],
      "execution_count": 0,
      "outputs": []
    },
    {
      "cell_type": "code",
      "metadata": {
        "id": "KSd5LbVrkWEH",
        "colab_type": "code",
        "colab": {}
      },
      "source": [
        "vec_h"
      ],
      "execution_count": 0,
      "outputs": []
    },
    {
      "cell_type": "code",
      "metadata": {
        "id": "AQHKOsvexS2-",
        "colab_type": "code",
        "colab": {}
      },
      "source": [
        "len(bhoj.words)"
      ],
      "execution_count": 0,
      "outputs": []
    },
    {
      "cell_type": "code",
      "metadata": {
        "id": "nlOlFI8Sxh1B",
        "colab_type": "code",
        "colab": {}
      },
      "source": [
        "vec_b = {}"
      ],
      "execution_count": 0,
      "outputs": []
    },
    {
      "cell_type": "code",
      "metadata": {
        "id": "Mc8pKGH9xo7j",
        "colab_type": "code",
        "colab": {}
      },
      "source": [
        "for i in un:\n",
        "  vec_b[i] = bhoj[i]"
      ],
      "execution_count": 0,
      "outputs": []
    },
    {
      "cell_type": "code",
      "metadata": {
        "id": "q2z8jj23iRUM",
        "colab_type": "code",
        "colab": {
          "base_uri": "https://localhost:8080/",
          "height": 162
        },
        "outputId": "e0e19f4b-1084-4980-98ce-985190e7f2f4"
      },
      "source": [
        ""
      ],
      "execution_count": 63,
      "outputs": [
        {
          "output_type": "error",
          "ename": "AttributeError",
          "evalue": "ignored",
          "traceback": [
            "\u001b[0;31m---------------------------------------------------------------------------\u001b[0m",
            "\u001b[0;31mAttributeError\u001b[0m                            Traceback (most recent call last)",
            "\u001b[0;32m<ipython-input-63-f5f378773e19>\u001b[0m in \u001b[0;36m<module>\u001b[0;34m()\u001b[0m\n\u001b[0;32m----> 1\u001b[0;31m \u001b[0mvec_h_n\u001b[0m \u001b[0;34m=\u001b[0m \u001b[0mvec_h\u001b[0m\u001b[0;34m.\u001b[0m\u001b[0mnumpy\u001b[0m\u001b[0;34m(\u001b[0m\u001b[0;34m)\u001b[0m\u001b[0;34m\u001b[0m\u001b[0;34m\u001b[0m\u001b[0m\n\u001b[0m",
            "\u001b[0;31mAttributeError\u001b[0m: 'dict' object has no attribute 'numpy'"
          ]
        }
      ]
    },
    {
      "cell_type": "code",
      "metadata": {
        "id": "RNDSQ7ndiLaR",
        "colab_type": "code",
        "colab": {}
      },
      "source": [
        "normalize_a = l2_norm(vec_h)      \n",
        "normalize_b = l2_norm(vec_b)\n",
        "a = euclidean_distance(normalize_a, normalize_b)"
      ],
      "execution_count": 0,
      "outputs": []
    },
    {
      "cell_type": "code",
      "metadata": {
        "id": "6OVYfgLe1l7m",
        "colab_type": "code",
        "colab": {}
      },
      "source": [
        "a.shape()"
      ],
      "execution_count": 0,
      "outputs": []
    },
    {
      "cell_type": "code",
      "metadata": {
        "id": "Q6DdU8GulL8f",
        "colab_type": "code",
        "colab": {}
      },
      "source": [
        "import numpy as np\n",
        "norm_h = []\n",
        "for i in vec_h:\n",
        "  norm_h.append(np.asarray(vec_h[i]))"
      ],
      "execution_count": 0,
      "outputs": []
    },
    {
      "cell_type": "code",
      "metadata": {
        "id": "6FEK7iURlwU6",
        "colab_type": "code",
        "colab": {}
      },
      "source": [
        "norm_h_np = np.asarray(norm_h)"
      ],
      "execution_count": 0,
      "outputs": []
    },
    {
      "cell_type": "code",
      "metadata": {
        "id": "TeuYjPxHl5EG",
        "colab_type": "code",
        "colab": {}
      },
      "source": [
        "normh = l2_norm(norm_h_np)"
      ],
      "execution_count": 0,
      "outputs": []
    },
    {
      "cell_type": "code",
      "metadata": {
        "id": "YEDMg2iemCtu",
        "colab_type": "code",
        "colab": {
          "base_uri": "https://localhost:8080/",
          "height": 34
        },
        "outputId": "dbe08b8b-e927-4a2f-c28a-f39a6b247dbc"
      },
      "source": [
        "print(normh)"
      ],
      "execution_count": 75,
      "outputs": [
        {
          "output_type": "stream",
          "text": [
            "Tensor(\"truediv_1:0\", shape=(22242, 100), dtype=float32)\n"
          ],
          "name": "stdout"
        }
      ]
    },
    {
      "cell_type": "code",
      "metadata": {
        "id": "d83GXZqfmXlt",
        "colab_type": "code",
        "colab": {}
      },
      "source": [
        "import numpy as np\n",
        "norm_b = []\n",
        "for i in vec_b:\n",
        "  norm_b.append(np.asarray(vec_b[i]))"
      ],
      "execution_count": 0,
      "outputs": []
    },
    {
      "cell_type": "code",
      "metadata": {
        "id": "tmrRzcXzmdKR",
        "colab_type": "code",
        "colab": {}
      },
      "source": [
        "norm_b_np = np.asarray(norm_b)"
      ],
      "execution_count": 0,
      "outputs": []
    },
    {
      "cell_type": "code",
      "metadata": {
        "id": "y6s3ZpQ9mk8F",
        "colab_type": "code",
        "colab": {}
      },
      "source": [
        "normb = l2_norm(norm_b_np)"
      ],
      "execution_count": 0,
      "outputs": []
    },
    {
      "cell_type": "code",
      "metadata": {
        "id": "ojx61cpmmpmn",
        "colab_type": "code",
        "colab": {}
      },
      "source": [
        "a = euclidean_distance(normh,normb)"
      ],
      "execution_count": 0,
      "outputs": []
    },
    {
      "cell_type": "code",
      "metadata": {
        "id": "vaJQUWzdoIzx",
        "colab_type": "code",
        "colab": {}
      },
      "source": [
        "total_unique = []\n",
        "for i in un:\n",
        "  if i not in un_h:\n",
        "    total_unique.append(i)"
      ],
      "execution_count": 0,
      "outputs": []
    },
    {
      "cell_type": "code",
      "metadata": {
        "id": "dp7H3SZcoad8",
        "colab_type": "code",
        "colab": {
          "base_uri": "https://localhost:8080/",
          "height": 34
        },
        "outputId": "3cb4765d-58c6-4fcf-83c0-37c3e68241bd"
      },
      "source": [
        "len(total_unique)"
      ],
      "execution_count": 85,
      "outputs": [
        {
          "output_type": "execute_result",
          "data": {
            "text/plain": [
              "20544"
            ]
          },
          "metadata": {
            "tags": []
          },
          "execution_count": 85
        }
      ]
    },
    {
      "cell_type": "code",
      "metadata": {
        "id": "MI_hxkazoldV",
        "colab_type": "code",
        "colab": {
          "base_uri": "https://localhost:8080/",
          "height": 34
        },
        "outputId": "344b1352-ba4f-4676-9a4d-2a6b2d420062"
      },
      "source": [
        "20544-22242"
      ],
      "execution_count": 86,
      "outputs": [
        {
          "output_type": "execute_result",
          "data": {
            "text/plain": [
              "-1698"
            ]
          },
          "metadata": {
            "tags": []
          },
          "execution_count": 86
        }
      ]
    },
    {
      "cell_type": "code",
      "metadata": {
        "id": "PMeDqYoVuErv",
        "colab_type": "code",
        "colab": {}
      },
      "source": [
        "vec_h"
      ],
      "execution_count": 0,
      "outputs": []
    },
    {
      "cell_type": "code",
      "metadata": {
        "id": "Dv0SC59FworI",
        "colab_type": "code",
        "colab": {}
      },
      "source": [
        "import time\n",
        "\n",
        "N = 100\n",
        "for i in range(N):\n",
        "    #do work here\n",
        "    if i % 15 == 0:\n",
        "        print \"{}% complete\".format(int(100 * i / N))\n",
        "print \"100% complete\""
      ],
      "execution_count": 0,
      "outputs": []
    },
    {
      "cell_type": "code",
      "metadata": {
        "id": "57pzJ0LMqx5c",
        "colab_type": "code",
        "colab": {}
      },
      "source": [
        "from scipy import spatial\n",
        "\n",
        "trans = {}\n",
        "tgt = ''\n",
        "for  i in vec_b:\n",
        "  flag = -2\n",
        "  dataSetI = vec_b[i]\n",
        "  for j in vec_h:\n",
        "    dataSetII = vec_h[j]\n",
        "    result = 1 - spatial.distance.cosine(dataSetI, dataSetII)\n",
        "    if result > flag:\n",
        "      flag  = result\n",
        "      tgt = j\n",
        "  trans[i] = tgt"
      ],
      "execution_count": 0,
      "outputs": []
    },
    {
      "cell_type": "code",
      "metadata": {
        "id": "NJmG9ytLuS5C",
        "colab_type": "code",
        "colab": {}
      },
      "source": [
        "trans"
      ],
      "execution_count": 0,
      "outputs": []
    },
    {
      "cell_type": "code",
      "metadata": {
        "id": "Q0pzEPNVxRQr",
        "colab_type": "code",
        "colab": {}
      },
      "source": [
        ""
      ],
      "execution_count": 0,
      "outputs": []
    }
  ]
}